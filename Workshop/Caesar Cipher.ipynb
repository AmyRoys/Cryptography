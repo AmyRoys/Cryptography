{
 "cells": [
  {
   "cell_type": "markdown",
   "id": "76813dd9",
   "metadata": {},
   "source": [
    "# Caesar Cipher"
   ]
  },
  {
   "cell_type": "code",
   "execution_count": 1,
   "id": "220d6937",
   "metadata": {},
   "outputs": [
    {
     "ename": "ValueError",
     "evalue": "invalid literal for int() with base 10: ''",
     "output_type": "error",
     "traceback": [
      "\u001b[1;31m---------------------------------------------------------------------------\u001b[0m",
      "\u001b[1;31mValueError\u001b[0m                                Traceback (most recent call last)",
      "Cell \u001b[1;32mIn[1], line 11\u001b[0m\n\u001b[0;32m      9\u001b[0m    results\u001b[38;5;241m+\u001b[39m\u001b[38;5;241m=\u001b[39m k\n\u001b[0;32m     10\u001b[0m  \u001b[38;5;28;01mreturn\u001b[39;00m results\u001b[38;5;241m.\u001b[39mlower()\n\u001b[1;32m---> 11\u001b[0m num \u001b[38;5;241m=\u001b[39m\u001b[38;5;28;43mint\u001b[39;49m\u001b[43m(\u001b[49m\u001b[38;5;28;43minput\u001b[39;49m\u001b[43m(\u001b[49m\u001b[38;5;124;43m\"\u001b[39;49m\u001b[38;5;124;43mplease input the shift:\u001b[39;49m\u001b[38;5;130;43;01m\\t\u001b[39;49;00m\u001b[38;5;124;43m\"\u001b[39;49m\u001b[43m)\u001b[49m\u001b[43m)\u001b[49m\n\u001b[0;32m     12\u001b[0m text\u001b[38;5;241m=\u001b[39m\u001b[38;5;28minput\u001b[39m(\u001b[38;5;124m\"\u001b[39m\u001b[38;5;124mplease input the text: \u001b[39m\u001b[38;5;130;01m\\t\u001b[39;00m\u001b[38;5;124m\"\u001b[39m)\n\u001b[0;32m     13\u001b[0m ciphertext \u001b[38;5;241m=\u001b[39m encrypt_caesar(num, text)\n",
      "\u001b[1;31mValueError\u001b[0m: invalid literal for int() with base 10: ''"
     ]
    }
   ],
   "source": [
    "alphabets = 'abcdefghijklmnopqrstuvwxyz'\n",
    "def encrypt_caesar(num, text):\n",
    " results = ' '\n",
    " for k in text.lower():\n",
    "  try:\n",
    "    i = (alphabets.index(k) + num) % 26\n",
    "    results += alphabets[i]\n",
    "  except ValueError:\n",
    "   results+= k\n",
    " return results.lower()\n",
    "num =int(input(\"please input the shift:\\t\"))\n",
    "text=input(\"please input the text: \\t\")\n",
    "ciphertext = encrypt_caesar(num, text)\n",
    "print('Encoded Cipher',ciphertext)"
   ]
  },
  {
   "cell_type": "code",
   "execution_count": null,
   "id": "8ca9ece3",
   "metadata": {},
   "outputs": [
    {
     "name": "stdout",
     "output_type": "stream",
     "text": [
      "please input the shift:\t6\n",
      "please input the text: \tznoy oy g zkyz\n",
      "Decoded text: this is a test\n"
     ]
    }
   ],
   "source": [
    "alphabets= 'abcdefghijklmnopqrstuvwxyz'\n",
    "def decrypt_caesar(num, text):\n",
    " results = ''\n",
    " for k in text.lower():\n",
    "  try:\n",
    "    i = (alphabets.index(k) - num) % 26\n",
    "    results +=alphabets[i]\n",
    "  except ValueError:\n",
    "   results += k\n",
    " return results.lower()\n",
    "num =int(input(\"please input the shift:\\t\"))\n",
    "text=input(\"please input the text: \\t\")\n",
    "ciphertext = decrypt_caesar(num, text)\n",
    "print('Decoded text:',ciphertext)"
   ]
  },
  {
   "cell_type": "code",
   "execution_count": null,
   "id": "5a9af0cf",
   "metadata": {},
   "outputs": [],
   "source": []
  }
 ],
 "metadata": {
  "kernelspec": {
   "display_name": "Python 3 (ipykernel)",
   "language": "python",
   "name": "python3"
  },
  "language_info": {
   "codemirror_mode": {
    "name": "ipython",
    "version": 3
   },
   "file_extension": ".py",
   "mimetype": "text/x-python",
   "name": "python",
   "nbconvert_exporter": "python",
   "pygments_lexer": "ipython3",
   "version": "3.11.3"
  }
 },
 "nbformat": 4,
 "nbformat_minor": 5
}
