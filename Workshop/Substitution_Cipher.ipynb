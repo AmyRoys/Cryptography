{
 "cells": [
  {
   "cell_type": "markdown",
   "id": "f3c22b3e",
   "metadata": {},
   "source": [
    "## Substitution_Cipher\n",
    "This is where letters are directly mapped to other letters within the Alpabet \n",
    "See mapping in block below\n"
   ]
  },
  {
   "cell_type": "code",
   "execution_count": 1,
   "id": "682c2d1a",
   "metadata": {},
   "outputs": [],
   "source": [
    "# Define the substitution dictionary\n",
    "substitution_dict = {\n",
    "    'a': 'q',\n",
    "    'b': 'w',\n",
    "    'c': 'e',\n",
    "    'd': 'r',\n",
    "    'e': 't',\n",
    "    'f': 'y',\n",
    "    'g': 'u',\n",
    "    'h': 'i',\n",
    "    'i': 'o',\n",
    "    'j': 'p',\n",
    "    'k': 'a',\n",
    "    'l': 's',\n",
    "    'm': 'd',\n",
    "    'n': 'f',\n",
    "    'o': 'g',\n",
    "    'p': 'h',\n",
    "    'q': 'j',\n",
    "    'r': 'k',\n",
    "    's': 'l',\n",
    "    't': 'z',\n",
    "    'u': 'x',\n",
    "    'v': 'c',\n",
    "    'w': 'v',\n",
    "    'x': 'b',\n",
    "    'y': 'n',\n",
    "    'z': 'm'\n",
    "    \n",
    "}\n",
    "\n",
    "\n",
    "\n"
   ]
  },
  {
   "cell_type": "code",
   "execution_count": 2,
   "id": "5b564ff1",
   "metadata": {},
   "outputs": [
    {
     "name": "stdout",
     "output_type": "stream",
     "text": [
      "please input the message: \tthis is a ## Test\n"
     ]
    }
   ],
   "source": [
    "message=input(\"please input the message: \\t\")"
   ]
  },
  {
   "cell_type": "markdown",
   "id": "a3d5d7e6",
   "metadata": {},
   "source": [
    "## The encrypt_message function loops through each letter in the message, checks if it is present in the substitution dictionary, and replaces the letter with its substitute if it is. If the letter is not present in the dictionary, it is added to the encrypted message as is. The function then returns the encrypted message."
   ]
  },
  {
   "cell_type": "code",
   "execution_count": 3,
   "id": "875e3b50",
   "metadata": {},
   "outputs": [],
   "source": [
    "# Function to encrypt the message\n",
    "def encrypt_message(message):\n",
    "    encrypted_message = \"\"\n",
    "    for letter in message.lower():\n",
    "        if letter in substitution_dict:\n",
    "            encrypted_message += substitution_dict[letter]\n",
    "        else:\n",
    "            encrypted_message += letter\n",
    "    return encrypted_message"
   ]
  },
  {
   "cell_type": "code",
   "execution_count": 4,
   "id": "4e3d1d77",
   "metadata": {},
   "outputs": [],
   "source": [
    "encrypted_message= encrypt_message(message)"
   ]
  },
  {
   "cell_type": "code",
   "execution_count": 5,
   "id": "92b0d5b4",
   "metadata": {},
   "outputs": [
    {
     "name": "stdout",
     "output_type": "stream",
     "text": [
      "ziol ol q ## ztlz\n"
     ]
    }
   ],
   "source": [
    "print(encrypted_message)"
   ]
  },
  {
   "cell_type": "markdown",
   "id": "67b3ff8d",
   "metadata": {},
   "source": [
    "## The decrypt_message function loops through each letter in the encrypted message, checks if it is present in the substitution dictionary's values, and then loops through the dictionary to find the key that corresponds to the given value. If the letter is not present in the dictionary, it is added to the decrypted message as is. The function then returns the decrypted message."
   ]
  },
  {
   "cell_type": "code",
   "execution_count": 6,
   "id": "6d639250",
   "metadata": {},
   "outputs": [],
   "source": [
    "# Function to decrypt the message\n",
    "def decrypt_message(encrypted_message):\n",
    "    decrypted_message = \"\"\n",
    "    for letter in encrypted_message.lower():\n",
    "        if letter in substitution_dict.values():\n",
    "            for key in substitution_dict:\n",
    "                if substitution_dict[key] == letter:\n",
    "                    decrypted_message += key\n",
    "        else:\n",
    "            decrypted_message += letter\n",
    "    return decrypted_message"
   ]
  },
  {
   "cell_type": "code",
   "execution_count": 7,
   "id": "1b3c3e42",
   "metadata": {},
   "outputs": [],
   "source": [
    "decrypted_message = decrypt_message(encrypted_message)"
   ]
  },
  {
   "cell_type": "code",
   "execution_count": 8,
   "id": "9bd94e4a",
   "metadata": {},
   "outputs": [
    {
     "name": "stdout",
     "output_type": "stream",
     "text": [
      "this is a ## test\n"
     ]
    }
   ],
   "source": [
    "print(decrypted_message)"
   ]
  },
  {
   "cell_type": "code",
   "execution_count": null,
   "id": "e5ac57ae",
   "metadata": {},
   "outputs": [],
   "source": []
  }
 ],
 "metadata": {
  "kernelspec": {
   "display_name": "Python 3 (ipykernel)",
   "language": "python",
   "name": "python3"
  },
  "language_info": {
   "codemirror_mode": {
    "name": "ipython",
    "version": 3
   },
   "file_extension": ".py",
   "mimetype": "text/x-python",
   "name": "python",
   "nbconvert_exporter": "python",
   "pygments_lexer": "ipython3",
   "version": "3.11.5"
  }
 },
 "nbformat": 4,
 "nbformat_minor": 5
}
