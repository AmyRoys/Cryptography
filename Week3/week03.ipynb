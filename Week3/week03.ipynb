{
 "cells": [
  {
   "cell_type": "markdown",
   "metadata": {},
   "source": [
    "# ISE Cryptography Week 3\n",
    "\n",
    "This week's challenges are mostly centred around being extremely cruel to various kinds of block cipher modes of operation!"
   ]
  },
  {
   "cell_type": "markdown",
   "metadata": {
    "vscode": {
     "languageId": "plaintext"
    }
   },
   "source": [
    "## Cryptography in Python\n",
    "\n",
    "Most of these exercises are going to feel a lot more convincing if you try them against a state-of-the-art block cipher like AES.\n",
    "I recommend using the [`pycryptodome`](https://pycryptodome.readthedocs.io/en/latest/src/introduction.html) library for this, which is a fork of the older `pycrypto` library.\n",
    "\n",
    "```python\n",
    "from Crypto.Cipher import AES\n",
    "from Crypto.Random import get_random_bytes\n",
    "\n",
    "key = get_random_bytes(16)\n",
    "cipher = AES.new(key, AES.MODE_ECB)\n",
    "\n",
    "plaintext = b\"Hello, world!\"\n",
    "ciphertext = cipher.encrypt(plaintext)\n",
    "decrypted = cipher.decrypt(ciphertext)\n",
    "\n",
    "print(decrypted)\n",
    "```"
   ]
  },
  {
   "cell_type": "code",
   "execution_count": 7,
   "metadata": {},
   "outputs": [
    {
     "name": "stdout",
     "output_type": "stream",
     "text": [
      "Requirement already satisfied: pycryptodome in c:\\python311\\lib\\site-packages (3.20.0)Note: you may need to restart the kernel to use updated packages.\n",
      "\n"
     ]
    }
   ],
   "source": [
    "# Install pycryptodome (useful if you're running this in Google Colab)\n",
    "%pip install pycryptodome\n",
    "\n",
    "import secrets\n",
    "from Crypto.Cipher import AES"
   ]
  },
  {
   "cell_type": "markdown",
   "metadata": {},
   "source": [
    "## Cracking ECB Mode with a Chosen Plaintext Attack\n",
    "\n",
    "By just being able to control the prefix of the plaintext, we can completely break ECB mode, no matter how strong the block cipher is!\n",
    "\n",
    "Demonstrate this by writing a function to crack ECB mode, given a function that encrypts arbitrary plaintexts and appends a secret string to them.\n",
    "\n",
    "You should print the secret string at the end."
   ]
  },
  {
   "cell_type": "code",
   "execution_count": 47,
   "metadata": {},
   "outputs": [
    {
     "name": "stdout",
     "output_type": "stream",
     "text": [
      "Secret Message: b' This is a very \\xff\\xff\\xff\\xff\\xff\\xff\\xff\\xff\\xff\\xff\\xff\\xff\\xff\\xff\\xff\\xff\\xff\\xff\\xff\\xff\\xff\\xff\\xff\\xff\\xff\\xff\\xff\\xff\\xff\\xff\\xff\\xff'\n"
     ]
    }
   ],
   "source": [
    "def aes_ecb_encrypt_with_secret(plaintext: bytes):\n",
    "    # Add a secret message to the end of the plaintext\n",
    "    plaintext += \" This is a very original secret message!\".encode(\"utf-8\")\n",
    "    # Pad the plaintext to a multiple of 16 bytes\n",
    "    plaintext += b\"\\x00\" * (16 - len(plaintext) % 16)\n",
    "    # Please don't hardcode the key in a real-world scenario!\n",
    "    key = b\"\\xa1\" * 16\n",
    "    # Encrypt the plaintext with AES-128-ECB\n",
    "    cipher = AES.new(key, AES.MODE_ECB)\n",
    "    return cipher.encrypt(plaintext)\n",
    "\n",
    "plaintext = b\"Hello, World!\"\n",
    "ciphertext = aes_ecb_encrypt_with_secret(plaintext)\n",
    "\n",
    "def crack_ecb_mode(encrypt_func):\n",
    "    block_size = AES.block_size\n",
    "    known_bytes = b''\n",
    "    num_blocks = len(encrypt_func(b'')) // block_size\n",
    "\n",
    "    for _ in range(num_blocks):\n",
    "        for i in range(block_size):\n",
    "            dictionary = {}\n",
    "            for j in range(256):\n",
    "                payload = b'\\x00' * (block_size - 1 - i) + known_bytes + bytes([j])\n",
    "                ciphertext_block = encrypt_func(payload)[:block_size]\n",
    "                dictionary[ciphertext_block] = bytes([j])\n",
    "            ciphertext_block = encrypt_func(b'\\x00' * (block_size - 1 - i))[:block_size]\n",
    "            known_bytes += dictionary[ciphertext_block]\n",
    "\n",
    "    return known_bytes\n",
    "\n",
    "plaintext = b\"Hello, World!\"\n",
    "ciphertext = aes_ecb_encrypt_with_secret(plaintext)\n",
    "\n",
    "print(\"Secret Message:\", crack_ecb_mode(aes_ecb_encrypt_with_secret))\n"
   ]
  },
  {
   "cell_type": "markdown",
   "metadata": {},
   "source": [
    "## Attacking CBC Mode with a Constant IV\n",
    "\n",
    "Implement the attack discussed in the lecture slides against CBC mode with a predictable IV. In this case, the IV is always set to zero.\n",
    "Demonstrate that this allows you to verify the correctness of a guess for the plaintext under a chosen-plaintext attack."
   ]
  },
  {
   "cell_type": "code",
   "execution_count": 9,
   "metadata": {},
   "outputs": [],
   "source": [
    "def cbc_constant_iv_encrypt(plaintext: bytes):\n",
    "    # Pad the plaintext to a multiple of 16 bytes\n",
    "    plaintext += b\"\\x00\" * (16 - len(plaintext) % 16)\n",
    "    # Encrypt the plaintext with AES-128-CBC\n",
    "    key = b\"\\xf5\" * 16\n",
    "    iv = b'\\x00' * 16\n",
    "    cipher = AES.new(key, AES.MODE_CBC, iv)\n",
    "    # Note that we're returning the IV as well!\n",
    "    return iv + cipher.encrypt(plaintext)\n",
    "\n",
    "def cbc_constant_iv_attack():\n",
    "    # Let's encrypt a test score!\n",
    "    ciphertext = cbc_constant_iv_encrypt(b\"42%\")\n",
    "    # TODO: Implement the attack here! You can call cbc_constant_iv_encrypt() as many times as you want.\n",
    "    # TODO: Show that, because you know the IV that will be used, you can verify if a guessed plaintext is correct.\n",
    "    # TODO: For this exercise, you can assume that the plaintext is a percentage score between 0% and 100% to make brute force guessing easier.\n",
    "    # TODO: The function should return the test score that was encrypted."
   ]
  },
  {
   "cell_type": "markdown",
   "metadata": {},
   "source": [
    "## Attacking CBC Mode with the Key as IV\n",
    "\n",
    "Implement the attack discussed in the lecture slides against CBC mode with the key as the IV.\n",
    "Demonstrate that this allows you to recover the key under a chosen-ciphertext attack,\n",
    "i.e. you can encrppt arbitrary plaintexts and decrypt arbitrary ciphertexts.\n",
    "\n",
    "Note that we're using AES-128 here, so the key is 16 bytes long - the same size as a block.\n",
    "If you're using a different block cipher, the key might not fit into a single block!"
   ]
  },
  {
   "cell_type": "code",
   "execution_count": 10,
   "metadata": {},
   "outputs": [],
   "source": [
    "def cbc_key_as_iv_encrypt(plaintext: bytes):\n",
    "    # Pad the plaintext to a multiple of 16 bytes\n",
    "    plaintext += b\"\\x00\" * (16 - len(plaintext) % 16)\n",
    "    # Encrypt the plaintext with AES-128-CBC\n",
    "    key = b\"\\x42\" * 16\n",
    "    cipher = AES.new(key, AES.MODE_CBC, key)\n",
    "    # Note that we're NOT returning the IV, since it's the same as the key!\n",
    "    return cipher.encrypt(plaintext)\n",
    "\n",
    "\n",
    "def cbc_key_as_iv_decrypt(plaintext: bytes):\n",
    "    # Pad the plaintext to a multiple of 16 bytes\n",
    "    plaintext += b\"\\x00\" * (16 - len(plaintext) % 16)\n",
    "    # Encrypt the plaintext with AES-128-CBC\n",
    "    key = b\"\\x42\" * 16\n",
    "    cipher = AES.new(key, AES.MODE_CBC, key)\n",
    "    return cipher.encrypt(plaintext)\n",
    "\n",
    "\n",
    "def cbc_key_as_iv_attack():\n",
    "    # TODO: Use the encrypt and decrypt functions to recover the key used for encryption, i.e. the IV.\n",
    "    pass"
   ]
  },
  {
   "cell_type": "markdown",
   "metadata": {},
   "source": [
    "## Padding\n",
    "\n",
    "Implement a zero-padding function and a function to remove zero-padding.\n",
    "You can optionally allow the user to specify the byte that should be used for padding, but default to `\\x00`.\n",
    "\n",
    "Once you've done that, implement a padding and unpadding function for PKCS#7 padding. Don't forget to write some test cases!\n",
    "\n",
    "Optionally, do a little research and implement another padding scheme of your choice."
   ]
  },
  {
   "cell_type": "code",
   "execution_count": 11,
   "metadata": {},
   "outputs": [],
   "source": [
    "class PaddingError(Exception):\n",
    "    pass\n",
    "\n",
    "def zero_pad(plaintext: bytes, block_size: int, padding_byte: bytes = b\"\\x00\"):\n",
    "    pass\n",
    "\n",
    "\n",
    "def zero_unpad(padded_plaintext: bytes, padding_byte: bytes = b\"\\x00\"):\n",
    "    pass\n",
    "\n",
    "\n",
    "def pkcs7_pad(plaintext: bytes, block_size: int):\n",
    "    pass\n",
    "\n",
    "\n",
    "def pkcs7_unpad(padded_plaintext: bytes):\n",
    "    # TODO: Before unpadding, check if the padding is correct. If it's not, raise a PaddingError.\n",
    "    pass"
   ]
  },
  {
   "cell_type": "markdown",
   "metadata": {},
   "source": [
    "## CBC Padding Oracle Attack\n",
    "\n",
    "Implement the padding oracle attack against CBC mode as discussed in the lecture slides."
   ]
  },
  {
   "cell_type": "code",
   "execution_count": 12,
   "metadata": {},
   "outputs": [],
   "source": [
    "def cbc_padding_oracle_encrypt(plaintext: bytes):\n",
    "    # Pad the plaintext to a multiple of 16 bytes\n",
    "    plaintext = pkcs7_pad(plaintext, 16)\n",
    "    key = b\"\\x83\" * 16\n",
    "    iv = secrets.token_bytes(16)\n",
    "    cipher = AES.new(key, AES.MODE_CBC, iv)\n",
    "    ciphertext = cipher.encrypt(plaintext)\n",
    "    return iv + ciphertext\n",
    "\n",
    "\n",
    "def cbc_padding_oracle(ciphertext: bytes) -> bool:\n",
    "    # Extract the IV and the ciphertext\n",
    "    iv, ciphertext = ciphertext[:16], ciphertext[16:]\n",
    "    # Decrypt the ciphertext\n",
    "    key = b\"\\x83\" * 16\n",
    "    cipher = AES.new(key, AES.MODE_CBC, iv)\n",
    "    plaintext = cipher.decrypt(ciphertext)\n",
    "    try:\n",
    "        # Unpad the plaintext\n",
    "        pkcs7_unpad(plaintext)\n",
    "        return True\n",
    "    except PaddingError:\n",
    "        return False\n",
    "\n",
    "\n",
    "def cbc_padding_oracle_attack():\n",
    "    # Keeping the plaintext shorter than 16 bytes to make the attack easier\n",
    "    # Remember that the IV is prepended to the ciphertext!\n",
    "    ciphertext = cbc_padding_oracle_encrypt(b\"Hello, world!\")\n",
    "    # TODO: Implement the padding oracle attack here!\n",
    "    # TODO: The function should return the plaintext that was encrypted.\n",
    "    pass"
   ]
  },
  {
   "cell_type": "markdown",
   "metadata": {},
   "source": [
    "## CBC-R Padding Oracle Attack\n",
    "\n",
    "Now for a challenge: implement the padding oracle attack against CBC-R mode as mentioned in the lecture slides.\n",
    "You'll need to start by doing some research into what this attack is and how it works.\n",
    "\n",
    "After that, you'll need to set up a scenario and implement the attack itself!"
   ]
  },
  {
   "cell_type": "code",
   "execution_count": 13,
   "metadata": {},
   "outputs": [],
   "source": [
    "# TODO: This time, it's all up to you!"
   ]
  }
 ],
 "metadata": {
  "kernelspec": {
   "display_name": "Python 3",
   "language": "python",
   "name": "python3"
  },
  "language_info": {
   "codemirror_mode": {
    "name": "ipython",
    "version": 3
   },
   "file_extension": ".py",
   "mimetype": "text/x-python",
   "name": "python",
   "nbconvert_exporter": "python",
   "pygments_lexer": "ipython3",
   "version": "3.11.3"
  }
 },
 "nbformat": 4,
 "nbformat_minor": 2
}
