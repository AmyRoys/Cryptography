{
 "cells": [
  {
   "cell_type": "code",
   "execution_count": 2,
   "metadata": {},
   "outputs": [],
   "source": [
    "import secrets\n",
    "\n",
    "def one_time_pad(input:bytes, key:bytes):\n",
    "    # XOR operation for encryption\n",
    "    return bytes([a^b for a,b in zip(input,key)])\n",
    "\n",
    "def keygen(length:int) -> bytes:\n",
    "    # Key generation\n",
    "    return secrets.token_bytes(length)\n",
    "\n",
    "def decrypt(cipher:bytes, key:bytes):\n",
    "    # XOR operation for decryption\n",
    "    return bytes([a^b for a,b in zip(cipher,key)])"
   ]
  },
  {
   "cell_type": "code",
   "execution_count": 3,
   "metadata": {},
   "outputs": [
    {
     "name": "stdout",
     "output_type": "stream",
     "text": [
      "b'\\xca\\xb8_\\xa2\\xd7'\n",
      "b'Hello'\n"
     ]
    }
   ],
   "source": [
    "# Key generation\n",
    "key = keygen(10)\n",
    "\n",
    "# Encryption\n",
    "cipher = one_time_pad(b\"Hello\", key)\n",
    "print(cipher)\n",
    "\n",
    "# Decryption\n",
    "message = decrypt(cipher, key)\n",
    "print(message)"
   ]
  }
 ],
 "metadata": {
  "kernelspec": {
   "display_name": "Python 3",
   "language": "python",
   "name": "python3"
  },
  "language_info": {
   "codemirror_mode": {
    "name": "ipython",
    "version": 3
   },
   "file_extension": ".py",
   "mimetype": "text/x-python",
   "name": "python",
   "nbconvert_exporter": "python",
   "pygments_lexer": "ipython3",
   "version": "3.11.3"
  }
 },
 "nbformat": 4,
 "nbformat_minor": 2
}
